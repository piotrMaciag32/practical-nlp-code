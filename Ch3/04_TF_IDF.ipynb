{
 "cells": [
  {
   "cell_type": "markdown",
   "metadata": {
    "colab_type": "text",
    "id": "QE4VO40Gbl1U"
   },
   "source": [
    "## TF-IDF\n",
    "\n",
    "In all the other approaches we saw so far, all the words in the text are treated equally important. There is no notion of some words in the document being more important than others. TF-IDF addresses this issue. It aims to quantify the importance of a given word relative to other words in the document and in the corpus. It was commonly used representation scheme for information retrieval systems, for extracting relevant documents from a corpus for given text query. \n",
    "\n",
    "This notebook shows a simple example of how to get the TF-IDF representation of a document using sklearn's TfidfVectorizer. "
   ]
  },
  {
   "cell_type": "code",
   "execution_count": 3,
   "metadata": {
    "ExecuteTime": {
     "end_time": "2023-05-16T22:15:57.636089Z",
     "start_time": "2023-05-16T22:15:52.490092Z"
    }
   },
   "outputs": [
    {
     "name": "stdout",
     "output_type": "stream",
     "text": [
      "Collecting scikit-learn==0.21.3\r\n",
      "  Downloading scikit-learn-0.21.3.tar.gz (12.2 MB)\r\n",
      "\u001B[2K     \u001B[90m━━━━━━━━━━━━━━━━━━━━━━━━━━━━━━━━━━━━━━━━\u001B[0m \u001B[32m12.2/12.2 MB\u001B[0m \u001B[31m46.4 MB/s\u001B[0m eta \u001B[36m0:00:00\u001B[0ma \u001B[36m0:00:01\u001B[0m\r\n",
      "\u001B[?25h  Preparing metadata (setup.py) ... \u001B[?25ldone\r\n",
      "\u001B[?25hRequirement already satisfied: numpy>=1.11.0 in /Users/piotr/anaconda3/lib/python3.10/site-packages (from scikit-learn==0.21.3) (1.23.5)\r\n",
      "Requirement already satisfied: scipy>=0.17.0 in /Users/piotr/anaconda3/lib/python3.10/site-packages (from scikit-learn==0.21.3) (1.10.0)\r\n",
      "Requirement already satisfied: joblib>=0.11 in /Users/piotr/anaconda3/lib/python3.10/site-packages (from scikit-learn==0.21.3) (1.1.1)\r\n",
      "Building wheels for collected packages: scikit-learn\r\n",
      "  Building wheel for scikit-learn (setup.py) ... \u001B[?25lerror\r\n",
      "  \u001B[1;31merror\u001B[0m: \u001B[1msubprocess-exited-with-error\u001B[0m\r\n",
      "  \r\n",
      "  \u001B[31m×\u001B[0m \u001B[32mpython setup.py bdist_wheel\u001B[0m did not run successfully.\r\n",
      "  \u001B[31m│\u001B[0m exit code: \u001B[1;36m1\u001B[0m\r\n",
      "  \u001B[31m╰─>\u001B[0m \u001B[31m[40 lines of output]\u001B[0m\r\n",
      "  \u001B[31m   \u001B[0m Partial import of sklearn during the build process.\r\n",
      "  \u001B[31m   \u001B[0m /private/var/folders/7k/5cn3qjmd02qbrvy6k109rg200000gn/T/pip-install-iabrw78i/scikit-learn_6e2d6c83750f4d87bca20cdcd251c903/setup.py:122: DeprecationWarning:\r\n",
      "  \u001B[31m   \u001B[0m \r\n",
      "  \u001B[31m   \u001B[0m   `numpy.distutils` is deprecated since NumPy 1.23.0, as a result\r\n",
      "  \u001B[31m   \u001B[0m   of the deprecation of `distutils` itself. It will be removed for\r\n",
      "  \u001B[31m   \u001B[0m   Python >= 3.12. For older Python versions it will remain present.\r\n",
      "  \u001B[31m   \u001B[0m   It is recommended to use `setuptools < 60.0` for those Python versions.\r\n",
      "  \u001B[31m   \u001B[0m   For more details, see:\r\n",
      "  \u001B[31m   \u001B[0m     https://numpy.org/devdocs/reference/distutils_status_migration.html\r\n",
      "  \u001B[31m   \u001B[0m \r\n",
      "  \u001B[31m   \u001B[0m \r\n",
      "  \u001B[31m   \u001B[0m   from numpy.distutils.command.build_ext import build_ext  # noqa\r\n",
      "  \u001B[31m   \u001B[0m Traceback (most recent call last):\r\n",
      "  \u001B[31m   \u001B[0m   File \"<string>\", line 2, in <module>\r\n",
      "  \u001B[31m   \u001B[0m   File \"<pip-setuptools-caller>\", line 34, in <module>\r\n",
      "  \u001B[31m   \u001B[0m   File \"/private/var/folders/7k/5cn3qjmd02qbrvy6k109rg200000gn/T/pip-install-iabrw78i/scikit-learn_6e2d6c83750f4d87bca20cdcd251c903/setup.py\", line 290, in <module>\r\n",
      "  \u001B[31m   \u001B[0m     setup_package()\r\n",
      "  \u001B[31m   \u001B[0m   File \"/private/var/folders/7k/5cn3qjmd02qbrvy6k109rg200000gn/T/pip-install-iabrw78i/scikit-learn_6e2d6c83750f4d87bca20cdcd251c903/setup.py\", line 286, in setup_package\r\n",
      "  \u001B[31m   \u001B[0m     setup(**metadata)\r\n",
      "  \u001B[31m   \u001B[0m   File \"/Users/piotr/anaconda3/lib/python3.10/site-packages/numpy/distutils/core.py\", line 135, in setup\r\n",
      "  \u001B[31m   \u001B[0m     config = configuration()\r\n",
      "  \u001B[31m   \u001B[0m   File \"/private/var/folders/7k/5cn3qjmd02qbrvy6k109rg200000gn/T/pip-install-iabrw78i/scikit-learn_6e2d6c83750f4d87bca20cdcd251c903/setup.py\", line 174, in configuration\r\n",
      "  \u001B[31m   \u001B[0m     config.add_subpackage('sklearn')\r\n",
      "  \u001B[31m   \u001B[0m   File \"/Users/piotr/anaconda3/lib/python3.10/site-packages/numpy/distutils/misc_util.py\", line 1050, in add_subpackage\r\n",
      "  \u001B[31m   \u001B[0m     config_list = self.get_subpackage(subpackage_name, subpackage_path,\r\n",
      "  \u001B[31m   \u001B[0m   File \"/Users/piotr/anaconda3/lib/python3.10/site-packages/numpy/distutils/misc_util.py\", line 1016, in get_subpackage\r\n",
      "  \u001B[31m   \u001B[0m     config = self._get_configuration_from_setup_py(\r\n",
      "  \u001B[31m   \u001B[0m   File \"/Users/piotr/anaconda3/lib/python3.10/site-packages/numpy/distutils/misc_util.py\", line 958, in _get_configuration_from_setup_py\r\n",
      "  \u001B[31m   \u001B[0m     config = setup_module.configuration(*args)\r\n",
      "  \u001B[31m   \u001B[0m   File \"/private/var/folders/7k/5cn3qjmd02qbrvy6k109rg200000gn/T/pip-install-iabrw78i/scikit-learn_6e2d6c83750f4d87bca20cdcd251c903/sklearn/setup.py\", line 62, in configuration\r\n",
      "  \u001B[31m   \u001B[0m     config.add_subpackage('utils')\r\n",
      "  \u001B[31m   \u001B[0m   File \"/Users/piotr/anaconda3/lib/python3.10/site-packages/numpy/distutils/misc_util.py\", line 1050, in add_subpackage\r\n",
      "  \u001B[31m   \u001B[0m     config_list = self.get_subpackage(subpackage_name, subpackage_path,\r\n",
      "  \u001B[31m   \u001B[0m   File \"/Users/piotr/anaconda3/lib/python3.10/site-packages/numpy/distutils/misc_util.py\", line 1016, in get_subpackage\r\n",
      "  \u001B[31m   \u001B[0m     config = self._get_configuration_from_setup_py(\r\n",
      "  \u001B[31m   \u001B[0m   File \"/Users/piotr/anaconda3/lib/python3.10/site-packages/numpy/distutils/misc_util.py\", line 958, in _get_configuration_from_setup_py\r\n",
      "  \u001B[31m   \u001B[0m     config = setup_module.configuration(*args)\r\n",
      "  \u001B[31m   \u001B[0m   File \"/private/var/folders/7k/5cn3qjmd02qbrvy6k109rg200000gn/T/pip-install-iabrw78i/scikit-learn_6e2d6c83750f4d87bca20cdcd251c903/sklearn/utils/setup.py\", line 8, in configuration\r\n",
      "  \u001B[31m   \u001B[0m     from Cython import Tempita\r\n",
      "  \u001B[31m   \u001B[0m ModuleNotFoundError: No module named 'Cython'\r\n",
      "  \u001B[31m   \u001B[0m \u001B[31m[end of output]\u001B[0m\r\n",
      "  \r\n",
      "  \u001B[1;35mnote\u001B[0m: This error originates from a subprocess, and is likely not a problem with pip.\r\n",
      "\u001B[31m  ERROR: Failed building wheel for scikit-learn\u001B[0m\u001B[31m\r\n",
      "\u001B[0m\u001B[?25h  Running setup.py clean for scikit-learn\r\n",
      "Failed to build scikit-learn\r\n",
      "Installing collected packages: scikit-learn\r\n",
      "  Attempting uninstall: scikit-learn\r\n",
      "    Found existing installation: scikit-learn 1.2.1\r\n",
      "    Uninstalling scikit-learn-1.2.1:\r\n",
      "      Successfully uninstalled scikit-learn-1.2.1\r\n",
      "  Running setup.py install for scikit-learn ... \u001B[?25lerror\r\n",
      "  \u001B[1;31merror\u001B[0m: \u001B[1msubprocess-exited-with-error\u001B[0m\r\n",
      "  \r\n",
      "  \u001B[31m×\u001B[0m \u001B[32mRunning setup.py install for scikit-learn\u001B[0m did not run successfully.\r\n",
      "  \u001B[31m│\u001B[0m exit code: \u001B[1;36m1\u001B[0m\r\n",
      "  \u001B[31m╰─>\u001B[0m \u001B[31m[40 lines of output]\u001B[0m\r\n",
      "  \u001B[31m   \u001B[0m Partial import of sklearn during the build process.\r\n",
      "  \u001B[31m   \u001B[0m /private/var/folders/7k/5cn3qjmd02qbrvy6k109rg200000gn/T/pip-install-iabrw78i/scikit-learn_6e2d6c83750f4d87bca20cdcd251c903/setup.py:122: DeprecationWarning:\r\n",
      "  \u001B[31m   \u001B[0m \r\n",
      "  \u001B[31m   \u001B[0m   `numpy.distutils` is deprecated since NumPy 1.23.0, as a result\r\n",
      "  \u001B[31m   \u001B[0m   of the deprecation of `distutils` itself. It will be removed for\r\n",
      "  \u001B[31m   \u001B[0m   Python >= 3.12. For older Python versions it will remain present.\r\n",
      "  \u001B[31m   \u001B[0m   It is recommended to use `setuptools < 60.0` for those Python versions.\r\n",
      "  \u001B[31m   \u001B[0m   For more details, see:\r\n",
      "  \u001B[31m   \u001B[0m     https://numpy.org/devdocs/reference/distutils_status_migration.html\r\n",
      "  \u001B[31m   \u001B[0m \r\n",
      "  \u001B[31m   \u001B[0m \r\n",
      "  \u001B[31m   \u001B[0m   from numpy.distutils.command.build_ext import build_ext  # noqa\r\n",
      "  \u001B[31m   \u001B[0m Traceback (most recent call last):\r\n",
      "  \u001B[31m   \u001B[0m   File \"<string>\", line 2, in <module>\r\n",
      "  \u001B[31m   \u001B[0m   File \"<pip-setuptools-caller>\", line 34, in <module>\r\n",
      "  \u001B[31m   \u001B[0m   File \"/private/var/folders/7k/5cn3qjmd02qbrvy6k109rg200000gn/T/pip-install-iabrw78i/scikit-learn_6e2d6c83750f4d87bca20cdcd251c903/setup.py\", line 290, in <module>\r\n",
      "  \u001B[31m   \u001B[0m     setup_package()\r\n",
      "  \u001B[31m   \u001B[0m   File \"/private/var/folders/7k/5cn3qjmd02qbrvy6k109rg200000gn/T/pip-install-iabrw78i/scikit-learn_6e2d6c83750f4d87bca20cdcd251c903/setup.py\", line 286, in setup_package\r\n",
      "  \u001B[31m   \u001B[0m     setup(**metadata)\r\n",
      "  \u001B[31m   \u001B[0m   File \"/Users/piotr/anaconda3/lib/python3.10/site-packages/numpy/distutils/core.py\", line 135, in setup\r\n",
      "  \u001B[31m   \u001B[0m     config = configuration()\r\n",
      "  \u001B[31m   \u001B[0m   File \"/private/var/folders/7k/5cn3qjmd02qbrvy6k109rg200000gn/T/pip-install-iabrw78i/scikit-learn_6e2d6c83750f4d87bca20cdcd251c903/setup.py\", line 174, in configuration\r\n",
      "  \u001B[31m   \u001B[0m     config.add_subpackage('sklearn')\r\n",
      "  \u001B[31m   \u001B[0m   File \"/Users/piotr/anaconda3/lib/python3.10/site-packages/numpy/distutils/misc_util.py\", line 1050, in add_subpackage\r\n",
      "  \u001B[31m   \u001B[0m     config_list = self.get_subpackage(subpackage_name, subpackage_path,\r\n",
      "  \u001B[31m   \u001B[0m   File \"/Users/piotr/anaconda3/lib/python3.10/site-packages/numpy/distutils/misc_util.py\", line 1016, in get_subpackage\r\n",
      "  \u001B[31m   \u001B[0m     config = self._get_configuration_from_setup_py(\r\n",
      "  \u001B[31m   \u001B[0m   File \"/Users/piotr/anaconda3/lib/python3.10/site-packages/numpy/distutils/misc_util.py\", line 958, in _get_configuration_from_setup_py\r\n",
      "  \u001B[31m   \u001B[0m     config = setup_module.configuration(*args)\r\n",
      "  \u001B[31m   \u001B[0m   File \"/private/var/folders/7k/5cn3qjmd02qbrvy6k109rg200000gn/T/pip-install-iabrw78i/scikit-learn_6e2d6c83750f4d87bca20cdcd251c903/sklearn/setup.py\", line 62, in configuration\r\n",
      "  \u001B[31m   \u001B[0m     config.add_subpackage('utils')\r\n",
      "  \u001B[31m   \u001B[0m   File \"/Users/piotr/anaconda3/lib/python3.10/site-packages/numpy/distutils/misc_util.py\", line 1050, in add_subpackage\r\n",
      "  \u001B[31m   \u001B[0m     config_list = self.get_subpackage(subpackage_name, subpackage_path,\r\n",
      "  \u001B[31m   \u001B[0m   File \"/Users/piotr/anaconda3/lib/python3.10/site-packages/numpy/distutils/misc_util.py\", line 1016, in get_subpackage\r\n",
      "  \u001B[31m   \u001B[0m     config = self._get_configuration_from_setup_py(\r\n",
      "  \u001B[31m   \u001B[0m   File \"/Users/piotr/anaconda3/lib/python3.10/site-packages/numpy/distutils/misc_util.py\", line 958, in _get_configuration_from_setup_py\r\n",
      "  \u001B[31m   \u001B[0m     config = setup_module.configuration(*args)\r\n",
      "  \u001B[31m   \u001B[0m   File \"/private/var/folders/7k/5cn3qjmd02qbrvy6k109rg200000gn/T/pip-install-iabrw78i/scikit-learn_6e2d6c83750f4d87bca20cdcd251c903/sklearn/utils/setup.py\", line 8, in configuration\r\n",
      "  \u001B[31m   \u001B[0m     from Cython import Tempita\r\n",
      "  \u001B[31m   \u001B[0m ModuleNotFoundError: No module named 'Cython'\r\n",
      "  \u001B[31m   \u001B[0m \u001B[31m[end of output]\u001B[0m\r\n",
      "  \r\n",
      "  \u001B[1;35mnote\u001B[0m: This error originates from a subprocess, and is likely not a problem with pip.\r\n",
      "\u001B[?25h  Rolling back uninstall of scikit-learn\r\n",
      "  Moving to /Users/piotr/anaconda3/lib/python3.10/site-packages/scikit_learn-1.2.1.dist-info/\r\n",
      "   from /Users/piotr/anaconda3/lib/python3.10/site-packages/~cikit_learn-1.2.1.dist-info\r\n",
      "  Moving to /Users/piotr/anaconda3/lib/python3.10/site-packages/sklearn/\r\n",
      "   from /Users/piotr/anaconda3/lib/python3.10/site-packages/~klearn\r\n",
      "\u001B[1;31merror\u001B[0m: \u001B[1mlegacy-install-failure\u001B[0m\r\n",
      "\r\n",
      "\u001B[31m×\u001B[0m Encountered error while trying to install package.\r\n",
      "\u001B[31m╰─>\u001B[0m scikit-learn\r\n",
      "\r\n",
      "\u001B[1;35mnote\u001B[0m: This is an issue with the package mentioned above, not pip.\r\n",
      "\u001B[1;36mhint\u001B[0m: See above for output from the failure.\r\n"
     ]
    }
   ],
   "source": [
    "# To install only the requirements of this notebook, uncomment the lines below and run this cell\n",
    "\n",
    "# ===========================\n",
    "\n",
    "!pip install scikit-learn==0.21.3\n",
    "\n",
    "# ==========================="
   ]
  },
  {
   "cell_type": "code",
   "execution_count": 2,
   "metadata": {},
   "outputs": [],
   "source": [
    "# To install the requirements for the entire chapter, uncomment the lines below and run this cell\n",
    "\n",
    "# ===========================\n",
    "\n",
    "# try :\n",
    "#     import google.colab\n",
    "#     !curl https://raw.githubusercontent.com/practical-nlp/practical-nlp/master/Ch3/ch3-requirements.txt | xargs -n 1 -L 1 pip install\n",
    "# except ModuleNotFoundError :\n",
    "#     !pip install -r \"ch3-requirements.txt\"\n",
    "\n",
    "# ==========================="
   ]
  },
  {
   "cell_type": "code",
   "execution_count": 7,
   "metadata": {
    "colab": {
     "base_uri": "https://localhost:8080/",
     "height": 35
    },
    "colab_type": "code",
    "id": "5S4Ircomar27",
    "outputId": "085cac58-e2d6-4a1e-f0aa-f7f5d73ba7ef",
    "ExecuteTime": {
     "end_time": "2023-05-16T22:27:10.308582Z",
     "start_time": "2023-05-16T22:27:10.303358Z"
    }
   },
   "outputs": [
    {
     "data": {
      "text/plain": "['dog bites man', 'man bites dog', 'dog eats meat', 'man eats food and barks']"
     },
     "execution_count": 7,
     "metadata": {},
     "output_type": "execute_result"
    }
   ],
   "source": [
    "documents = [\"Dog bites man.\", \"Man bites dog.\", \"Dog eats meat.\", \"Man eats food and barks.\"]\n",
    "processed_docs = [doc.lower().replace(\".\",\"\") for doc in documents]\n",
    "processed_docs"
   ]
  },
  {
   "cell_type": "code",
   "execution_count": 8,
   "metadata": {
    "colab": {
     "base_uri": "https://localhost:8080/",
     "height": 230
    },
    "colab_type": "code",
    "id": "BRjyqt4Ba2zx",
    "outputId": "9835422d-8ea9-4028-f31c-ac3493f224d7",
    "ExecuteTime": {
     "end_time": "2023-05-16T22:27:11.614480Z",
     "start_time": "2023-05-16T22:27:11.609015Z"
    }
   },
   "outputs": [
    {
     "name": "stdout",
     "output_type": "stream",
     "text": [
      "IDF for all words in the vocabulary [1.91629073 1.91629073 1.51082562 1.22314355 1.51082562 1.91629073\n",
      " 1.22314355 1.91629073]\n",
      "----------\n",
      "All words in the vocabulary ['and' 'barks' 'bites' 'dog' 'eats' 'food' 'man' 'meat']\n",
      "TFIDF representation for all documents in our corpus\n",
      " [[0.         0.         0.65782931 0.53256952 0.         0.\n",
      "  0.53256952 0.        ]\n",
      " [0.         0.         0.65782931 0.53256952 0.         0.\n",
      "  0.53256952 0.        ]\n",
      " [0.         0.         0.         0.44809973 0.55349232 0.\n",
      "  0.         0.70203482]\n",
      " [0.49819711 0.49819711 0.         0.         0.39278432 0.49819711\n",
      "  0.31799276 0.        ]]\n",
      "----------\n",
      "Tfidf representation for 'dog and man are friends':\n",
      " [[0.74230628 0.         0.         0.47380449 0.         0.\n",
      "  0.47380449 0.        ]]\n"
     ]
    }
   ],
   "source": [
    "from sklearn.feature_extraction.text import TfidfVectorizer\n",
    "\n",
    "tfidf = TfidfVectorizer()\n",
    "bow_rep_tfidf = tfidf.fit_transform(processed_docs)\n",
    "\n",
    "#IDF for all words in the vocabulary\n",
    "print(\"IDF for all words in the vocabulary\",tfidf.idf_)\n",
    "print(\"-\"*10)\n",
    "#All words in the vocabulary.\n",
    "print(\"All words in the vocabulary\",tfidf.get_feature_names_out())\n",
    "#print(\"-\"*10)\n",
    "\n",
    "#TFIDF representation for all documents in our corpus \n",
    "print(\"TFIDF representation for all documents in our corpus\\n\",bow_rep_tfidf.toarray()) \n",
    "print(\"-\"*10)\n",
    "\n",
    "temp = tfidf.transform([\"dog and man are friends\"])\n",
    "print(\"Tfidf representation for 'dog and man are friends':\\n\", temp.toarray())"
   ]
  },
  {
   "cell_type": "markdown",
   "metadata": {},
   "source": [
    "We will see how this representation can be used for text classification later in chapter 4!"
   ]
  },
  {
   "cell_type": "markdown",
   "source": [
    "## Only TF"
   ],
   "metadata": {
    "collapsed": false
   }
  },
  {
   "cell_type": "code",
   "execution_count": 12,
   "outputs": [
    {
     "name": "stdout",
     "output_type": "stream",
     "text": [
      "All words in the vocabulary ['and' 'barks' 'bites' 'dog' 'eats' 'food' 'man' 'meat']\n",
      "TFIDF representation for all documents in our corpus\n",
      " [[0.         0.         0.57735027 0.57735027 0.         0.\n",
      "  0.57735027 0.        ]\n",
      " [0.         0.         0.57735027 0.57735027 0.         0.\n",
      "  0.57735027 0.        ]\n",
      " [0.         0.         0.         0.57735027 0.57735027 0.\n",
      "  0.         0.57735027]\n",
      " [0.4472136  0.4472136  0.         0.         0.4472136  0.4472136\n",
      "  0.4472136  0.        ]]\n",
      "----------\n",
      "Tfidf representation for 'dog and man are friends':\n",
      " [[0.57735027 0.         0.         0.57735027 0.         0.\n",
      "  0.57735027 0.        ]]\n"
     ]
    }
   ],
   "source": [
    "from sklearn.feature_extraction.text import TfidfVectorizer\n",
    "\n",
    "\n",
    "tf = TfidfVectorizer(use_idf=False, lowercase=True)\n",
    "bow_rep_tf = tf.fit_transform(processed_docs)\n",
    "\n",
    "#IDF for all words in the vocabulary\n",
    "#print(\"IDF for all words in the vocabulary\",tf.idf_)\n",
    "#print(\"-\"*10)\n",
    "#All words in the vocabulary.\n",
    "print(\"All words in the vocabulary\",tf.get_feature_names_out())\n",
    "#print(\"-\"*10)\n",
    "\n",
    "#TFIDF representation for all documents in our corpus\n",
    "print(\"TFIDF representation for all documents in our corpus\\n\",bow_rep_tf.toarray())\n",
    "print(\"-\"*10)\n",
    "\n",
    "temp = tf.transform([\"dog and man are friends\"])\n",
    "print(\"Tfidf representation for 'dog and man are friends':\\n\", temp.toarray())"
   ],
   "metadata": {
    "collapsed": false,
    "ExecuteTime": {
     "end_time": "2023-05-16T22:37:33.606730Z",
     "start_time": "2023-05-16T22:37:33.603076Z"
    }
   }
  },
  {
   "cell_type": "code",
   "execution_count": null,
   "outputs": [],
   "source": [],
   "metadata": {
    "collapsed": false
   }
  }
 ],
 "metadata": {
  "colab": {
   "collapsed_sections": [],
   "name": "TF-IDF.ipynb",
   "provenance": []
  },
  "kernelspec": {
   "display_name": "Python 3",
   "language": "python",
   "name": "python3"
  },
  "language_info": {
   "codemirror_mode": {
    "name": "ipython",
    "version": 3
   },
   "file_extension": ".py",
   "mimetype": "text/x-python",
   "name": "python",
   "nbconvert_exporter": "python",
   "pygments_lexer": "ipython3",
   "version": "3.6.13"
  }
 },
 "nbformat": 4,
 "nbformat_minor": 1
}
